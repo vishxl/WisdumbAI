{
  "nbformat": 4,
  "nbformat_minor": 0,
  "metadata": {
    "colab": {
      "name": "Vanilla_Transformers.ipynb",
      "provenance": []
    },
    "kernelspec": {
      "name": "python3",
      "display_name": "Python 3"
    },
    "language_info": {
      "name": "python"
    }
  },
  "cells": [
    {
      "cell_type": "markdown",
      "metadata": {
        "id": "54hZU5-ScDUX"
      },
      "source": [
        "##Transformer\n",
        "\n",
        "### [Naval](http://twitter.com/naval) Tweet Generation using Transformer (base code)\n",
        "\n",
        "#### Motivation\n",
        "Transformers, introduced in 2018 by researchers at Google in their remarkable paper, \"Attention is All You Need\". I has chaged the landscape of NLP, particularly for it's multihead attention mechanism. It has been particularly exceptional in NLG tasks. I have tried applying transformer to generate tweets like Naval without any transfer learning."
      ]
    },
    {
      "cell_type": "markdown",
      "metadata": {
        "id": "cKyFN-tt5WLE"
      },
      "source": [
        "##### Dataset Preparations Steps:\n",
        "> Scrapped Twitter Data using `Twint`\n",
        "\n",
        "> Cleaned the data. By Removing Special Characters, Images Link, Links, hashtags, mentions and replies. Keeping the Emojis and tweets."
      ]
    },
    {
      "cell_type": "markdown",
      "metadata": {
        "id": "i-Xpe-2lvLKE"
      },
      "source": [
        "##### Importing Libraries"
      ]
    },
    {
      "cell_type": "code",
      "metadata": {
        "id": "Pf5RsEtn5w13",
        "colab": {
          "base_uri": "https://localhost:8080/"
        },
        "outputId": "06e442e7-ec3d-437d-ecb1-45305bd78d27"
      },
      "source": [
        "!pip install tensorflow-datasets==1.2.0\n",
        "import tensorflow as tf\n",
        "import tensorflow_datasets as tfds\n",
        "import os"
      ],
      "execution_count": null,
      "outputs": [
        {
          "output_type": "stream",
          "text": [
            "Collecting tensorflow-datasets==1.2.0\n",
            "\u001b[?25l  Downloading https://files.pythonhosted.org/packages/6c/34/ff424223ed4331006aaa929efc8360b6459d427063dc59fc7b75d7e4bab3/tensorflow_datasets-1.2.0-py3-none-any.whl (2.3MB)\n",
            "\u001b[K     |████████████████████████████████| 2.3MB 2.8MB/s \n",
            "\u001b[?25hRequirement already satisfied: protobuf>=3.6.1 in /usr/local/lib/python3.6/dist-packages (from tensorflow-datasets==1.2.0) (3.12.4)\n",
            "Requirement already satisfied: psutil in /usr/local/lib/python3.6/dist-packages (from tensorflow-datasets==1.2.0) (5.4.8)\n",
            "Requirement already satisfied: future in /usr/local/lib/python3.6/dist-packages (from tensorflow-datasets==1.2.0) (0.16.0)\n",
            "Requirement already satisfied: tensorflow-metadata in /usr/local/lib/python3.6/dist-packages (from tensorflow-datasets==1.2.0) (0.24.0)\n",
            "Requirement already satisfied: termcolor in /usr/local/lib/python3.6/dist-packages (from tensorflow-datasets==1.2.0) (1.1.0)\n",
            "Requirement already satisfied: tqdm in /usr/local/lib/python3.6/dist-packages (from tensorflow-datasets==1.2.0) (4.41.1)\n",
            "Requirement already satisfied: requests>=2.19.0 in /usr/local/lib/python3.6/dist-packages (from tensorflow-datasets==1.2.0) (2.23.0)\n",
            "Requirement already satisfied: wrapt in /usr/local/lib/python3.6/dist-packages (from tensorflow-datasets==1.2.0) (1.12.1)\n",
            "Requirement already satisfied: absl-py in /usr/local/lib/python3.6/dist-packages (from tensorflow-datasets==1.2.0) (0.10.0)\n",
            "Requirement already satisfied: numpy in /usr/local/lib/python3.6/dist-packages (from tensorflow-datasets==1.2.0) (1.18.5)\n",
            "Requirement already satisfied: attrs in /usr/local/lib/python3.6/dist-packages (from tensorflow-datasets==1.2.0) (20.2.0)\n",
            "Requirement already satisfied: promise in /usr/local/lib/python3.6/dist-packages (from tensorflow-datasets==1.2.0) (2.3)\n",
            "Requirement already satisfied: six in /usr/local/lib/python3.6/dist-packages (from tensorflow-datasets==1.2.0) (1.15.0)\n",
            "Requirement already satisfied: dill in /usr/local/lib/python3.6/dist-packages (from tensorflow-datasets==1.2.0) (0.3.3)\n",
            "Requirement already satisfied: setuptools in /usr/local/lib/python3.6/dist-packages (from protobuf>=3.6.1->tensorflow-datasets==1.2.0) (50.3.2)\n",
            "Requirement already satisfied: googleapis-common-protos<2,>=1.52.0 in /usr/local/lib/python3.6/dist-packages (from tensorflow-metadata->tensorflow-datasets==1.2.0) (1.52.0)\n",
            "Requirement already satisfied: urllib3!=1.25.0,!=1.25.1,<1.26,>=1.21.1 in /usr/local/lib/python3.6/dist-packages (from requests>=2.19.0->tensorflow-datasets==1.2.0) (1.24.3)\n",
            "Requirement already satisfied: certifi>=2017.4.17 in /usr/local/lib/python3.6/dist-packages (from requests>=2.19.0->tensorflow-datasets==1.2.0) (2020.6.20)\n",
            "Requirement already satisfied: idna<3,>=2.5 in /usr/local/lib/python3.6/dist-packages (from requests>=2.19.0->tensorflow-datasets==1.2.0) (2.10)\n",
            "Requirement already satisfied: chardet<4,>=3.0.2 in /usr/local/lib/python3.6/dist-packages (from requests>=2.19.0->tensorflow-datasets==1.2.0) (3.0.4)\n",
            "Installing collected packages: tensorflow-datasets\n",
            "  Found existing installation: tensorflow-datasets 4.0.1\n",
            "    Uninstalling tensorflow-datasets-4.0.1:\n",
            "      Successfully uninstalled tensorflow-datasets-4.0.1\n",
            "Successfully installed tensorflow-datasets-1.2.0\n"
          ],
          "name": "stdout"
        }
      ]
    },
    {
      "cell_type": "markdown",
      "metadata": {
        "id": "oLnoiXsJ63q-"
      },
      "source": [
        "##### Downloading the dataset\n"
      ]
    },
    {
      "cell_type": "code",
      "metadata": {
        "id": "BvEdwwCL6eNM",
        "colab": {
          "base_uri": "https://localhost:8080/"
        },
        "outputId": "d8ca3365-f36e-4a0e-f225-00eaf7eab6cf"
      },
      "source": [
        "! gdown --id 1cciKCJCsu8Nqc4PKww6ummoQfBFZqvtQ #RAW Tweets\n",
        "! gdown --id 1-CgbvSIFHdLJwvKqAIaqPMcX5djiBXxR #Cleaned Tweets"
      ],
      "execution_count": null,
      "outputs": [
        {
          "output_type": "stream",
          "text": [
            "Downloading...\n",
            "From: https://drive.google.com/uc?id=1cciKCJCsu8Nqc4PKww6ummoQfBFZqvtQ\n",
            "To: /content/naval.csv\n",
            "7.35MB [00:00, 64.8MB/s]\n",
            "Downloading...\n",
            "From: https://drive.google.com/uc?id=1-CgbvSIFHdLJwvKqAIaqPMcX5djiBXxR\n",
            "To: /content/naval_c.csv\n",
            "100% 261k/261k [00:00<00:00, 68.9MB/s]\n"
          ],
          "name": "stdout"
        }
      ]
    },
    {
      "cell_type": "code",
      "metadata": {
        "id": "5ybK1V20_cqE",
        "colab": {
          "base_uri": "https://localhost:8080/",
          "height": 514
        },
        "outputId": "b70ccb45-c24f-4a3b-87f8-2933ffaad0a6"
      },
      "source": [
        "#before cleaning\n",
        "naval_tweets_raw = pd.read_csv(\"/content/naval.csv\")\n",
        "naval_tweets_raw.head() "
      ],
      "execution_count": null,
      "outputs": [
        {
          "output_type": "stream",
          "text": [
            "/usr/local/lib/python3.6/dist-packages/IPython/core/interactiveshell.py:2718: DtypeWarning: Columns (21) have mixed types.Specify dtype option on import or set low_memory=False.\n",
            "  interactivity=interactivity, compiler=compiler, result=result)\n"
          ],
          "name": "stderr"
        },
        {
          "output_type": "execute_result",
          "data": {
            "text/html": [
              "<div>\n",
              "<style scoped>\n",
              "    .dataframe tbody tr th:only-of-type {\n",
              "        vertical-align: middle;\n",
              "    }\n",
              "\n",
              "    .dataframe tbody tr th {\n",
              "        vertical-align: top;\n",
              "    }\n",
              "\n",
              "    .dataframe thead th {\n",
              "        text-align: right;\n",
              "    }\n",
              "</style>\n",
              "<table border=\"1\" class=\"dataframe\">\n",
              "  <thead>\n",
              "    <tr style=\"text-align: right;\">\n",
              "      <th></th>\n",
              "      <th>id</th>\n",
              "      <th>conversation_id</th>\n",
              "      <th>created_at</th>\n",
              "      <th>date</th>\n",
              "      <th>time</th>\n",
              "      <th>timezone</th>\n",
              "      <th>user_id</th>\n",
              "      <th>username</th>\n",
              "      <th>name</th>\n",
              "      <th>place</th>\n",
              "      <th>tweet</th>\n",
              "      <th>mentions</th>\n",
              "      <th>urls</th>\n",
              "      <th>photos</th>\n",
              "      <th>replies_count</th>\n",
              "      <th>retweets_count</th>\n",
              "      <th>likes_count</th>\n",
              "      <th>hashtags</th>\n",
              "      <th>cashtags</th>\n",
              "      <th>link</th>\n",
              "      <th>retweet</th>\n",
              "      <th>quote_url</th>\n",
              "      <th>video</th>\n",
              "      <th>near</th>\n",
              "      <th>geo</th>\n",
              "      <th>source</th>\n",
              "      <th>user_rt_id</th>\n",
              "      <th>user_rt</th>\n",
              "      <th>retweet_id</th>\n",
              "      <th>reply_to</th>\n",
              "      <th>retweet_date</th>\n",
              "      <th>translate</th>\n",
              "      <th>trans_src</th>\n",
              "      <th>trans_dest</th>\n",
              "    </tr>\n",
              "  </thead>\n",
              "  <tbody>\n",
              "    <tr>\n",
              "      <th>0</th>\n",
              "      <td>1297435160393129984</td>\n",
              "      <td>1295925108989521920</td>\n",
              "      <td>1598167622000</td>\n",
              "      <td>2020-08-23</td>\n",
              "      <td>07:27:02</td>\n",
              "      <td>UTC</td>\n",
              "      <td>745273</td>\n",
              "      <td>naval</td>\n",
              "      <td>Naval</td>\n",
              "      <td>NaN</td>\n",
              "      <td>Doesn’t feel right to me.</td>\n",
              "      <td>['omaribisa', 'fuentescca']</td>\n",
              "      <td>[]</td>\n",
              "      <td>[]</td>\n",
              "      <td>0</td>\n",
              "      <td>0</td>\n",
              "      <td>0</td>\n",
              "      <td>[]</td>\n",
              "      <td>[]</td>\n",
              "      <td>https://twitter.com/naval/status/1297435160393...</td>\n",
              "      <td>False</td>\n",
              "      <td>NaN</td>\n",
              "      <td>0</td>\n",
              "      <td>NaN</td>\n",
              "      <td>NaN</td>\n",
              "      <td>NaN</td>\n",
              "      <td>NaN</td>\n",
              "      <td>NaN</td>\n",
              "      <td>NaN</td>\n",
              "      <td>[{'user_id': '745273', 'username': 'naval'}, {...</td>\n",
              "      <td>NaN</td>\n",
              "      <td>NaN</td>\n",
              "      <td>NaN</td>\n",
              "      <td>NaN</td>\n",
              "    </tr>\n",
              "    <tr>\n",
              "      <th>1</th>\n",
              "      <td>1297431567489359873</td>\n",
              "      <td>1297324812659040260</td>\n",
              "      <td>1598166765000</td>\n",
              "      <td>2020-08-23</td>\n",
              "      <td>07:12:45</td>\n",
              "      <td>UTC</td>\n",
              "      <td>745273</td>\n",
              "      <td>naval</td>\n",
              "      <td>Naval</td>\n",
              "      <td>NaN</td>\n",
              "      <td>Siddhartha is a fictional retelling of the enl...</td>\n",
              "      <td>['101_chirag']</td>\n",
              "      <td>[]</td>\n",
              "      <td>[]</td>\n",
              "      <td>0</td>\n",
              "      <td>0</td>\n",
              "      <td>0</td>\n",
              "      <td>[]</td>\n",
              "      <td>[]</td>\n",
              "      <td>https://twitter.com/naval/status/1297431567489...</td>\n",
              "      <td>False</td>\n",
              "      <td>NaN</td>\n",
              "      <td>0</td>\n",
              "      <td>NaN</td>\n",
              "      <td>NaN</td>\n",
              "      <td>NaN</td>\n",
              "      <td>NaN</td>\n",
              "      <td>NaN</td>\n",
              "      <td>NaN</td>\n",
              "      <td>[{'user_id': '745273', 'username': 'naval'}, {...</td>\n",
              "      <td>NaN</td>\n",
              "      <td>NaN</td>\n",
              "      <td>NaN</td>\n",
              "      <td>NaN</td>\n",
              "    </tr>\n",
              "    <tr>\n",
              "      <th>2</th>\n",
              "      <td>1297430323337162753</td>\n",
              "      <td>1297430323337162753</td>\n",
              "      <td>1598166468000</td>\n",
              "      <td>2020-08-23</td>\n",
              "      <td>07:07:48</td>\n",
              "      <td>UTC</td>\n",
              "      <td>745273</td>\n",
              "      <td>naval</td>\n",
              "      <td>Naval</td>\n",
              "      <td>NaN</td>\n",
              "      <td>The overscheduled life is not worth living.</td>\n",
              "      <td>[]</td>\n",
              "      <td>[]</td>\n",
              "      <td>[]</td>\n",
              "      <td>100</td>\n",
              "      <td>642</td>\n",
              "      <td>3732</td>\n",
              "      <td>[]</td>\n",
              "      <td>[]</td>\n",
              "      <td>https://twitter.com/naval/status/1297430323337...</td>\n",
              "      <td>False</td>\n",
              "      <td>NaN</td>\n",
              "      <td>0</td>\n",
              "      <td>NaN</td>\n",
              "      <td>NaN</td>\n",
              "      <td>NaN</td>\n",
              "      <td>NaN</td>\n",
              "      <td>NaN</td>\n",
              "      <td>NaN</td>\n",
              "      <td>[{'user_id': '745273', 'username': 'naval'}]</td>\n",
              "      <td>NaN</td>\n",
              "      <td>NaN</td>\n",
              "      <td>NaN</td>\n",
              "      <td>NaN</td>\n",
              "    </tr>\n",
              "    <tr>\n",
              "      <th>3</th>\n",
              "      <td>1297317113581850624</td>\n",
              "      <td>1297263391032193024</td>\n",
              "      <td>1598139477000</td>\n",
              "      <td>2020-08-22</td>\n",
              "      <td>23:37:57</td>\n",
              "      <td>UTC</td>\n",
              "      <td>745273</td>\n",
              "      <td>naval</td>\n",
              "      <td>Naval</td>\n",
              "      <td>NaN</td>\n",
              "      <td>In theory it’s because there’s less allocation...</td>\n",
              "      <td>['lpolovets', 'ganeumann']</td>\n",
              "      <td>[]</td>\n",
              "      <td>[]</td>\n",
              "      <td>1</td>\n",
              "      <td>0</td>\n",
              "      <td>13</td>\n",
              "      <td>[]</td>\n",
              "      <td>[]</td>\n",
              "      <td>https://twitter.com/naval/status/1297317113581...</td>\n",
              "      <td>False</td>\n",
              "      <td>NaN</td>\n",
              "      <td>0</td>\n",
              "      <td>NaN</td>\n",
              "      <td>NaN</td>\n",
              "      <td>NaN</td>\n",
              "      <td>NaN</td>\n",
              "      <td>NaN</td>\n",
              "      <td>NaN</td>\n",
              "      <td>[{'user_id': '745273', 'username': 'naval'}, {...</td>\n",
              "      <td>NaN</td>\n",
              "      <td>NaN</td>\n",
              "      <td>NaN</td>\n",
              "      <td>NaN</td>\n",
              "    </tr>\n",
              "    <tr>\n",
              "      <th>4</th>\n",
              "      <td>1297301967950102534</td>\n",
              "      <td>1297263391032193024</td>\n",
              "      <td>1598135866000</td>\n",
              "      <td>2020-08-22</td>\n",
              "      <td>22:37:46</td>\n",
              "      <td>UTC</td>\n",
              "      <td>745273</td>\n",
              "      <td>naval</td>\n",
              "      <td>Naval</td>\n",
              "      <td>NaN</td>\n",
              "      <td>For follow ons to be so important you’d have t...</td>\n",
              "      <td>['ganeumann']</td>\n",
              "      <td>[]</td>\n",
              "      <td>[]</td>\n",
              "      <td>1</td>\n",
              "      <td>0</td>\n",
              "      <td>20</td>\n",
              "      <td>[]</td>\n",
              "      <td>[]</td>\n",
              "      <td>https://twitter.com/naval/status/1297301967950...</td>\n",
              "      <td>False</td>\n",
              "      <td>NaN</td>\n",
              "      <td>0</td>\n",
              "      <td>NaN</td>\n",
              "      <td>NaN</td>\n",
              "      <td>NaN</td>\n",
              "      <td>NaN</td>\n",
              "      <td>NaN</td>\n",
              "      <td>NaN</td>\n",
              "      <td>[{'user_id': '745273', 'username': 'naval'}, {...</td>\n",
              "      <td>NaN</td>\n",
              "      <td>NaN</td>\n",
              "      <td>NaN</td>\n",
              "      <td>NaN</td>\n",
              "    </tr>\n",
              "  </tbody>\n",
              "</table>\n",
              "</div>"
            ],
            "text/plain": [
              "                    id      conversation_id  ...  trans_src trans_dest\n",
              "0  1297435160393129984  1295925108989521920  ...        NaN        NaN\n",
              "1  1297431567489359873  1297324812659040260  ...        NaN        NaN\n",
              "2  1297430323337162753  1297430323337162753  ...        NaN        NaN\n",
              "3  1297317113581850624  1297263391032193024  ...        NaN        NaN\n",
              "4  1297301967950102534  1297263391032193024  ...        NaN        NaN\n",
              "\n",
              "[5 rows x 34 columns]"
            ]
          },
          "metadata": {
            "tags": []
          },
          "execution_count": 85
        }
      ]
    },
    {
      "cell_type": "code",
      "metadata": {
        "id": "M1yNSZYo7Xj-",
        "colab": {
          "base_uri": "https://localhost:8080/",
          "height": 198
        },
        "outputId": "b82d6a62-9083-4812-94f8-14519d350e64"
      },
      "source": [
        "#After Cleaning\n",
        "\n",
        "naval = pd.read_csv(\"/content/naval_c.csv\", encoding='utf-8')\n",
        "#trn_df, val_df = train_test_split(df, test_size = 0.2)\n",
        "naval.head()"
      ],
      "execution_count": null,
      "outputs": [
        {
          "output_type": "execute_result",
          "data": {
            "text/html": [
              "<div>\n",
              "<style scoped>\n",
              "    .dataframe tbody tr th:only-of-type {\n",
              "        vertical-align: middle;\n",
              "    }\n",
              "\n",
              "    .dataframe tbody tr th {\n",
              "        vertical-align: top;\n",
              "    }\n",
              "\n",
              "    .dataframe thead th {\n",
              "        text-align: right;\n",
              "    }\n",
              "</style>\n",
              "<table border=\"1\" class=\"dataframe\">\n",
              "  <thead>\n",
              "    <tr style=\"text-align: right;\">\n",
              "      <th></th>\n",
              "      <th>tweet</th>\n",
              "    </tr>\n",
              "  </thead>\n",
              "  <tbody>\n",
              "    <tr>\n",
              "      <th>0</th>\n",
              "      <td>The overscheduled life is not worth living.</td>\n",
              "    </tr>\n",
              "    <tr>\n",
              "      <th>1</th>\n",
              "      <td>Hope is the belief that this moment isn’t good...</td>\n",
              "    </tr>\n",
              "    <tr>\n",
              "      <th>2</th>\n",
              "      <td>When it comes to healing the mind, placebo eff...</td>\n",
              "    </tr>\n",
              "    <tr>\n",
              "      <th>3</th>\n",
              "      <td>How long until we create the perfect drug, tha...</td>\n",
              "    </tr>\n",
              "    <tr>\n",
              "      <th>4</th>\n",
              "      <td>Time spent has nothing to do with job done.</td>\n",
              "    </tr>\n",
              "  </tbody>\n",
              "</table>\n",
              "</div>"
            ],
            "text/plain": [
              "                                               tweet\n",
              "0        The overscheduled life is not worth living.\n",
              "1  Hope is the belief that this moment isn’t good...\n",
              "2  When it comes to healing the mind, placebo eff...\n",
              "3  How long until we create the perfect drug, tha...\n",
              "4        Time spent has nothing to do with job done."
            ]
          },
          "metadata": {
            "tags": []
          },
          "execution_count": 86
        }
      ]
    },
    {
      "cell_type": "code",
      "metadata": {
        "id": "F4uCgtpV7gOB",
        "colab": {
          "base_uri": "https://localhost:8080/"
        },
        "outputId": "1f869dc2-4fe0-4a70-9418-eff8e34e6d74"
      },
      "source": [
        "tweets = naval['tweet'].to_list()\n",
        "tweets[:10]"
      ],
      "execution_count": null,
      "outputs": [
        {
          "output_type": "execute_result",
          "data": {
            "text/plain": [
              "['The overscheduled life is not worth living.',\n",
              " 'Hope is the belief that this moment isn’t good enough.',\n",
              " 'When it comes to healing the mind, placebo effects are completely valid.',\n",
              " 'How long until we create the perfect drug, that has everyone addicted, all the time?',\n",
              " 'Time spent has nothing to do with job done.',\n",
              " 'If no one in this world had anything to offer you, how would you live your life?',\n",
              " 'Your worldview is your world.',\n",
              " 'Your company may not be in the software business, but eventually, a software company will be in your business.',\n",
              " 'Good advice is embodied.',\n",
              " 'The ability to stay calm during conflict is a superpower.']"
            ]
          },
          "metadata": {
            "tags": []
          },
          "execution_count": 87
        }
      ]
    },
    {
      "cell_type": "markdown",
      "metadata": {
        "id": "vCSWWxt8Afjt"
      },
      "source": [
        "#### Creating the Tokenizer"
      ]
    },
    {
      "cell_type": "code",
      "metadata": {
        "id": "5r2AfI2j8Z0G"
      },
      "source": [
        "tokenizer = tfds.features.text.SubwordTextEncoder.build_from_corpus(\n",
        "      tweets,\n",
        "      target_vocab_size=100000\n",
        "  )"
      ],
      "execution_count": null,
      "outputs": []
    },
    {
      "cell_type": "code",
      "metadata": {
        "id": "PQHjmgh2Aqud",
        "colab": {
          "base_uri": "https://localhost:8080/"
        },
        "outputId": "d9d19f30-f818-45fe-acca-8fe427e2b896"
      },
      "source": [
        "\n",
        "tokenizer.vocab_size"
      ],
      "execution_count": null,
      "outputs": [
        {
          "output_type": "execute_result",
          "data": {
            "text/plain": [
              "10260"
            ]
          },
          "metadata": {
            "tags": []
          },
          "execution_count": 89
        }
      ]
    },
    {
      "cell_type": "markdown",
      "metadata": {
        "id": "lqwS00xUCh7w"
      },
      "source": [
        "Adding 2 tokens -> The start token and end token to our vocab thus our VOCAB_SIZE will have 2 added elements"
      ]
    },
    {
      "cell_type": "markdown",
      "metadata": {
        "id": "uxjpxgOpCrfn"
      },
      "source": [
        "##### Defining start and end tokens"
      ]
    },
    {
      "cell_type": "code",
      "metadata": {
        "id": "iI2_j_KzCXe-"
      },
      "source": [
        "START_TOKEN, END_TOKEN = [tokenizer.vocab_size], [tokenizer.vocab_size + 1]\n",
        "\n",
        "#Vocab size after adding start and end tokens\n",
        "VOCAB_SIZE = tokenizer.vocab_size + 2"
      ],
      "execution_count": null,
      "outputs": []
    },
    {
      "cell_type": "code",
      "metadata": {
        "id": "acheLeXKC_yZ"
      },
      "source": [
        "MAX_LENGTH = 100\n",
        "\n",
        "def tokenize(sentence_list):\n",
        "  \n",
        "  ## Add start token and end token to the tokenized output of each sentence\n",
        "  tokenized_sentence_list = [\n",
        "    START_TOKEN + tokenizer.encode(sentence) + END_TOKEN \\\n",
        "    for sentence in sentence_list\n",
        "  ]\n",
        "\n",
        "  padded_list = tf.keras.preprocessing.sequence.pad_sequences(\n",
        "      tokenized_sentence_list, maxlen = MAX_LENGTH, padding='post'\n",
        "  )\n",
        "\n",
        "  return padded_list"
      ],
      "execution_count": null,
      "outputs": []
    },
    {
      "cell_type": "code",
      "metadata": {
        "id": "DvA-cSpgEIqZ",
        "colab": {
          "base_uri": "https://localhost:8080/"
        },
        "outputId": "375adae4-fcda-4704-b25f-6c4c270f8409"
      },
      "source": [
        "tweets_tokenized = tokenize(tweets)\n",
        "\n",
        "tweets_tokenized[0]"
      ],
      "execution_count": null,
      "outputs": [
        {
          "output_type": "execute_result",
          "data": {
            "text/plain": [
              "array([10260,    14,  5642,   220,     7,    30,   316,  6082, 10050,\n",
              "       10261,     0,     0,     0,     0,     0,     0,     0,     0,\n",
              "           0,     0,     0,     0,     0,     0,     0,     0,     0,\n",
              "           0,     0,     0,     0,     0,     0,     0,     0,     0,\n",
              "           0,     0,     0,     0,     0,     0,     0,     0,     0,\n",
              "           0,     0,     0,     0,     0,     0,     0,     0,     0,\n",
              "           0,     0,     0,     0,     0,     0,     0,     0,     0,\n",
              "           0,     0,     0,     0,     0,     0,     0,     0,     0,\n",
              "           0,     0,     0,     0,     0,     0,     0,     0,     0,\n",
              "           0,     0,     0,     0,     0,     0,     0,     0,     0,\n",
              "           0,     0,     0,     0,     0,     0,     0,     0,     0,\n",
              "           0], dtype=int32)"
            ]
          },
          "metadata": {
            "tags": []
          },
          "execution_count": 92
        }
      ]
    },
    {
      "cell_type": "markdown",
      "metadata": {
        "id": "M3opRwmuEgLJ"
      },
      "source": [
        "#### Tokens list to Dataset"
      ]
    },
    {
      "cell_type": "code",
      "metadata": {
        "id": "S1O_w3rfEXtn"
      },
      "source": [
        "def tokenslist_to_dataset(tokens_list, shuffle=True, batch_size=64):\n",
        "\n",
        "  ## index in y\n",
        "  dataset = tf.data.Dataset.from_tensor_slices(( \n",
        "          tokens_list[:, :-1],\n",
        "          tokens_list[:, 1:]\n",
        "  ))\n",
        "\n",
        "  if shuffle:\n",
        "    dataset = dataset.shuffle(buffer_size=len(tokens_list))\n",
        "\n",
        "  dataset = dataset.batch(batch_size)\n",
        "\n",
        "  return dataset"
      ],
      "execution_count": null,
      "outputs": []
    },
    {
      "cell_type": "code",
      "metadata": {
        "id": "NDqMGSySE2tQ"
      },
      "source": [
        "tweet_ds = tokenslist_to_dataset(tweets_tokenized)"
      ],
      "execution_count": null,
      "outputs": []
    },
    {
      "cell_type": "code",
      "metadata": {
        "id": "CaprNpafFDhG",
        "colab": {
          "base_uri": "https://localhost:8080/"
        },
        "outputId": "5f691e3a-8be7-4a6c-d3a2-ed8d06632f48"
      },
      "source": [
        "for batchX, batchY in tweet_ds:\n",
        "  print(batchX[0], batchY[0])\n",
        "  break"
      ],
      "execution_count": null,
      "outputs": [
        {
          "output_type": "stream",
          "text": [
            "tf.Tensor(\n",
            "[10260    69   724     7     6  3069  1176     3   356   806     4     9\n",
            "    11  5362     4    25  2094     5  2333     3  2467  2094    33   724\n",
            "    25  1210   713  3462     3  2467  7947    33   723    77     2   120\n",
            "    15    75  8030 10050 10261     0     0     0     0     0     0     0\n",
            "     0     0     0     0     0     0     0     0     0     0     0     0\n",
            "     0     0     0     0     0     0     0     0     0     0     0     0\n",
            "     0     0     0     0     0     0     0     0     0     0     0     0\n",
            "     0     0     0     0     0     0     0     0     0     0     0     0\n",
            "     0     0     0], shape=(99,), dtype=int32) tf.Tensor(\n",
            "[   69   724     7     6  3069  1176     3   356   806     4     9    11\n",
            "  5362     4    25  2094     5  2333     3  2467  2094    33   724    25\n",
            "  1210   713  3462     3  2467  7947    33   723    77     2   120    15\n",
            "    75  8030 10050 10261     0     0     0     0     0     0     0     0\n",
            "     0     0     0     0     0     0     0     0     0     0     0     0\n",
            "     0     0     0     0     0     0     0     0     0     0     0     0\n",
            "     0     0     0     0     0     0     0     0     0     0     0     0\n",
            "     0     0     0     0     0     0     0     0     0     0     0     0\n",
            "     0     0     0], shape=(99,), dtype=int32)\n"
          ],
          "name": "stdout"
        }
      ]
    },
    {
      "cell_type": "markdown",
      "metadata": {
        "id": "ak3fS02CFPT_"
      },
      "source": [
        "#### Attention\n",
        "Masked Self Attention\n",
        "The scaled dot-product attention function used by the transformer takes three inputs: Q (query), K (key), V (value)."
      ]
    },
    {
      "cell_type": "code",
      "metadata": {
        "id": "HaXWYalfFR0a"
      },
      "source": [
        "def masked_self_attention(query, key, value, mask):\n",
        "  \"\"\"Calculate the attention weights. \"\"\"\n",
        "  matmul_qk = tf.matmul(query, key, transpose_b=True)\n",
        "\n",
        "  # scale matmul_qk\n",
        "  depth = tf.cast(tf.shape(key)[-1], tf.float32)\n",
        "  logits = matmul_qk / tf.math.sqrt(depth)\n",
        "\n",
        "  # add the mask to zero out padding tokens\n",
        "  if mask is not None:\n",
        "    logits += (mask * -1e9)\n",
        "\n",
        "  # softmax is normalized on the last axis (seq_len_k)\n",
        "  attention_weights = tf.nn.softmax(logits, axis=-1)\n",
        "\n",
        "  output = tf.matmul(attention_weights, value)\n",
        "\n",
        "  return output\n",
        "  "
      ],
      "execution_count": null,
      "outputs": []
    },
    {
      "cell_type": "markdown",
      "metadata": {
        "id": "6oqmoAO6Frm_"
      },
      "source": [
        "#### Multi-head attention Layer\n",
        ">Multi-head attention consists of four parts:\n",
        "\n",
        "* Linear layers and split into heads.\n",
        "* Masked Self attention.\n",
        "* Concatenation of heads.\n",
        "* Final linear layer."
      ]
    },
    {
      "cell_type": "code",
      "metadata": {
        "id": "FBEZ9x-SFpPn"
      },
      "source": [
        "class MultiHeadAttention(tf.keras.layers.Layer):\n",
        "\n",
        "  def __init__(self, d_model, num_heads, name=\"multi_head_attention\"):\n",
        "    super(MultiHeadAttention, self).__init__(name=name)\n",
        "    self.num_heads = num_heads\n",
        "    self.d_model = d_model\n",
        "\n",
        "    assert d_model % self.num_heads == 0\n",
        "\n",
        "    self.depth = d_model // self.num_heads\n",
        "\n",
        "    self.query_dense = tf.keras.layers.Dense(units=d_model)\n",
        "    self.key_dense = tf.keras.layers.Dense(units=d_model)\n",
        "    self.value_dense = tf.keras.layers.Dense(units=d_model)\n",
        "\n",
        "    self.dense = tf.keras.layers.Dense(units=d_model)\n",
        "\n",
        "  def split_heads(self, inputs, batch_size):\n",
        "    inputs = tf.reshape(\n",
        "        inputs, shape=(batch_size, -1, self.num_heads, self.depth))\n",
        "    return tf.transpose(inputs, perm=[0, 2, 1, 3])\n",
        "\n",
        "  def call(self, inputs):\n",
        "    query, key, value, mask = inputs['query'], inputs['key'], inputs[\n",
        "        'value'], inputs['mask']\n",
        "    batch_size = tf.shape(query)[0]\n",
        "\n",
        "\n",
        "    # linear layers\n",
        "\n",
        "    query = self.query_dense(query)\n",
        "    key = self.key_dense(key)\n",
        "    value = self.value_dense(value)\n",
        "\n",
        "\n",
        "    # split heads\n",
        "\n",
        "    query = self.split_heads(query, batch_size)\n",
        "    key = self.split_heads(key, batch_size)\n",
        "    value = self.split_heads(value, batch_size)\n",
        "\n",
        "\n",
        "    # masked self attention\n",
        "\n",
        "    scaled_attention = masked_self_attention(query, key, value, mask)\n",
        "\n",
        "    scaled_attention = tf.transpose(scaled_attention, perm=[0, 2, 1, 3])\n",
        "\n",
        "\n",
        "    # concatenation of heads\n",
        "\n",
        "    concat_attention = tf.reshape(scaled_attention,\n",
        "\n",
        "                                  (batch_size, -1, self.d_model))\n",
        "\n",
        "    # final linear layer\n",
        "    \n",
        "    outputs = self.dense(concat_attention)\n",
        "\n",
        "    return outputs"
      ],
      "execution_count": null,
      "outputs": []
    },
    {
      "cell_type": "markdown",
      "metadata": {
        "id": "8jeZQur4GgT4"
      },
      "source": [
        "#### Building the Transformer\n",
        "Masking: \n",
        ">Mask the padding token since the model shouldn't see it as input.\n",
        "\n",
        ">Remember previous words and then focus on the future outcomes "
      ]
    },
    {
      "cell_type": "code",
      "metadata": {
        "id": "f5cvEOiGGfH8"
      },
      "source": [
        "## 0 is token with which keras as padded our tokens.\n",
        "def get_padding_mask(x):\n",
        "  mask = tf.cast(tf.math.equal(x, 0), tf.float32)\n",
        "  # (batch_size, 1, 1, sequence length)\n",
        "  return mask[:, tf.newaxis, tf.newaxis, :]"
      ],
      "execution_count": null,
      "outputs": []
    },
    {
      "cell_type": "code",
      "metadata": {
        "id": "xaiIGX9yHaTS"
      },
      "source": [
        "def get_look_ahead_mask(x):\n",
        "  seq_len = tf.shape(x)[1]\n",
        "  look_ahead_mask = 1 - tf.linalg.band_part(tf.ones((seq_len, seq_len)), -1, 0)\n",
        "\n",
        "  padding_mask = get_padding_mask(x)\n",
        "  return tf.maximum(look_ahead_mask, padding_mask)"
      ],
      "execution_count": null,
      "outputs": []
    },
    {
      "cell_type": "markdown",
      "metadata": {
        "id": "leelJH1xHjxF"
      },
      "source": [
        "#### Positional Encoding\n",
        "To ensure retention of sequential characteristics even with absense of reccurence, convolution."
      ]
    },
    {
      "cell_type": "code",
      "metadata": {
        "id": "vt5tgtndHif7"
      },
      "source": [
        "class PositionalEncoding(tf.keras.layers.Layer):\n",
        "\n",
        "  def __init__(self, position, d_model):\n",
        "    super(PositionalEncoding, self).__init__()\n",
        "    self.pos_encoding = self.positional_encoding(position, d_model)\n",
        "\n",
        "  def get_angles(self, position, i, d_model):\n",
        "    angles = 1 / tf.pow(10000, (2 * (i // 2)) / tf.cast(d_model, tf.float32))\n",
        "    return position * angles\n",
        "\n",
        "  def positional_encoding(self, position, d_model):\n",
        "    angle_rads = self.get_angles(\n",
        "        position=tf.range(position, dtype=tf.float32)[:, tf.newaxis],\n",
        "        i=tf.range(d_model, dtype=tf.float32)[tf.newaxis, :],\n",
        "        d_model=d_model)\n",
        "    # apply sin to even index in the array\n",
        "    sines = tf.math.sin(angle_rads[:, 0::2])\n",
        "    # apply cos to odd index in the array\n",
        "    cosines = tf.math.cos(angle_rads[:, 1::2])\n",
        "\n",
        "    pos_encoding = tf.concat([sines, cosines], axis=-1)\n",
        "    pos_encoding = pos_encoding[tf.newaxis, ...]\n",
        "    return tf.cast(pos_encoding, tf.float32)\n",
        "\n",
        "  def call(self, inputs):\n",
        "    return inputs + self.pos_encoding[:, :tf.shape(inputs)[1], :]"
      ],
      "execution_count": null,
      "outputs": []
    },
    {
      "cell_type": "code",
      "metadata": {
        "id": "CIZoKtyIIAo_",
        "colab": {
          "base_uri": "https://localhost:8080/",
          "height": 286
        },
        "outputId": "10ed03c2-6454-488d-fbd6-899115d030f7"
      },
      "source": [
        "sample_pos_encoding = PositionalEncoding(50, 512)\n",
        "\n",
        "plt.pcolormesh(sample_pos_encoding.pos_encoding.numpy()[0], cmap='icefire')\n",
        "plt.xlabel('Depth')\n",
        "plt.xlim((0, 512))\n",
        "plt.ylabel('Position')\n",
        "plt.colorbar()\n",
        "plt.show()"
      ],
      "execution_count": null,
      "outputs": [
        {
          "output_type": "display_data",
          "data": {
            "image/png": "[encoded data removed]",
            "text/plain": [
              "<Figure size 432x288 with 2 Axes>"
            ]
          },
          "metadata": {
            "tags": [],
            "needs_background": "light"
          }
        }
      ]
    },
    {
      "cell_type": "markdown",
      "metadata": {
        "id": "TULxP7dHIbOl"
      },
      "source": [
        "#### Decoder Layer\n",
        "Each decoder layer consists of sublayers:\n",
        "\n",
        "* Masked multi-head attention (with look ahead mask and padding mask)\n",
        "* 2 dense layers followed by dropout"
      ]
    },
    {
      "cell_type": "code",
      "metadata": {
        "id": "IB9_u1YBIL92"
      },
      "source": [
        "def decoder_layer(units, d_model, num_heads, dropout, name=\"decoder_layer\"):\n",
        "  inputs = tf.keras.Input(shape=(None, d_model), name=\"inputs\")\n",
        "  look_ahead_mask = tf.keras.Input(\n",
        "      shape=(1, None, None), name=\"look_ahead_mask\")\n",
        "\n",
        "  attention1 = MultiHeadAttention(\n",
        "      d_model, num_heads, name=\"attention_1\")(inputs={\n",
        "          'query': inputs,\n",
        "          'key': inputs,\n",
        "          'value': inputs,\n",
        "          'mask': look_ahead_mask\n",
        "      })\n",
        "  attention2 = tf.keras.layers.LayerNormalization(\n",
        "      epsilon=1e-6)(attention1 + inputs)\n",
        "\n",
        "\n",
        "  outputs = tf.keras.layers.Dense(units=units, activation='relu')(attention2)\n",
        "  outputs = tf.keras.layers.Dense(units=d_model)(outputs)\n",
        "  outputs = tf.keras.layers.Dropout(rate=dropout)(outputs)\n",
        "  outputs = tf.keras.layers.LayerNormalization(\n",
        "      epsilon=1e-6)(outputs + attention2)\n",
        "\n",
        "  return tf.keras.Model(\n",
        "      inputs=[inputs, look_ahead_mask],\n",
        "      outputs=outputs,\n",
        "      name=name)"
      ],
      "execution_count": null,
      "outputs": []
    },
    {
      "cell_type": "code",
      "metadata": {
        "id": "V0wI5gKeIyVN"
      },
      "source": [
        "\n",
        "sample_decoder_layer = decoder_layer(\n",
        "    units=512,\n",
        "    d_model=128,\n",
        "    num_heads=4,\n",
        "    dropout=0.3,\n",
        "    name=\"sample_decoder_layer\")"
      ],
      "execution_count": null,
      "outputs": []
    },
    {
      "cell_type": "markdown",
      "metadata": {
        "id": "zB4JXNx7I72l"
      },
      "source": [
        "##### Decoder\n",
        "The Decoder consists of:\n",
        "\n",
        "* Output Embedding\n",
        "* Positional Encoding\n",
        "* N decoder layers "
      ]
    },
    {
      "cell_type": "code",
      "metadata": {
        "id": "Cpnwh_LTIzd-"
      },
      "source": [
        "def decoder(vocab_size,\n",
        "            num_layers,\n",
        "            units,\n",
        "            d_model,\n",
        "            num_heads,\n",
        "            dropout,\n",
        "            name='Language_Decoder'):\n",
        "  inputs = tf.keras.Input(shape=(None,), name='inputs')\n",
        "  look_ahead_mask = tf.keras.Input(\n",
        "      shape=(1, None, None), name='look_ahead_mask')\n",
        "  \n",
        "  embeddings = tf.keras.layers.Embedding(vocab_size, d_model)(inputs)\n",
        "  embeddings *= tf.math.sqrt(tf.cast(d_model, tf.float32))\n",
        "  embeddings = PositionalEncoding(vocab_size, d_model)(embeddings)\n",
        "\n",
        "  outputs = tf.keras.layers.Dropout(rate=dropout)(embeddings)\n",
        "\n",
        "  for i in range(num_layers):\n",
        "    outputs = decoder_layer(\n",
        "        units=units,\n",
        "        d_model=d_model,\n",
        "        num_heads=num_heads,\n",
        "        dropout=dropout,\n",
        "        name='decoder_layer_{}'.format(i),\n",
        "    )(inputs=[outputs,  look_ahead_mask])\n",
        "\n",
        "  return tf.keras.Model(\n",
        "      inputs=[inputs, look_ahead_mask],\n",
        "      outputs=outputs,\n",
        "      name=name)"
      ],
      "execution_count": null,
      "outputs": []
    },
    {
      "cell_type": "code",
      "metadata": {
        "id": "ysQ3_mNPJN4E"
      },
      "source": [
        "sample_decoder = decoder(\n",
        "    vocab_size=8192,\n",
        "    num_layers=8,\n",
        "    units=512,\n",
        "    d_model=128,\n",
        "    num_heads=4,\n",
        "    dropout=0.3,\n",
        "    name=\"sample_decoder\")\n"
      ],
      "execution_count": null,
      "outputs": []
    },
    {
      "cell_type": "markdown",
      "metadata": {
        "id": "clI2EM3iJUJG"
      },
      "source": [
        "#### Transformer"
      ]
    },
    {
      "cell_type": "code",
      "metadata": {
        "id": "fze5XhAaJRhp"
      },
      "source": [
        "def transformer(vocab_size,\n",
        "                num_layers,\n",
        "                units,\n",
        "                d_model,\n",
        "                num_heads,\n",
        "                dropout,\n",
        "                name=\"transformer\"):\n",
        "  inputs = tf.keras.Input(shape=(None,), name=\"inputs\")\n",
        "\n",
        "  # mask the future tokens for decoder inputs at the 1st attention block\n",
        "  look_ahead_mask = tf.keras.layers.Lambda(\n",
        "      get_look_ahead_mask,\n",
        "      output_shape=(1, None, None),\n",
        "      name='look_ahead_mask')(inputs)\n",
        " \n",
        "\n",
        "  dec_outputs = decoder(\n",
        "      vocab_size=vocab_size,\n",
        "      num_layers=num_layers,\n",
        "      units=units,\n",
        "      d_model=d_model,\n",
        "      num_heads=num_heads,\n",
        "      dropout=dropout,\n",
        "  )(inputs=[inputs, look_ahead_mask])\n",
        "\n",
        "  outputs = tf.keras.layers.Dense(units=vocab_size, name=\"outputs\")(dec_outputs)\n",
        "\n",
        "  return tf.keras.Model(inputs=inputs, outputs=outputs, name=name)"
      ],
      "execution_count": null,
      "outputs": []
    },
    {
      "cell_type": "code",
      "metadata": {
        "id": "eaZ7putpJaqX",
        "colab": {
          "base_uri": "https://localhost:8080/",
          "height": 422
        },
        "outputId": "07fa92e7-c555-4844-9193-a0257ce98822"
      },
      "source": [
        "sample_transformer = transformer(\n",
        "    vocab_size=VOCAB_SIZE,\n",
        "    num_layers=4,\n",
        "    units=512,ac\n",
        "    d_model=128,\n",
        "    num_heads=4,\n",
        "    dropout=0.3,\n",
        "    name=\"sample_transformer\")\n",
        "\n",
        "tf.keras.utils.plot_model(\n",
        "    sample_transformer, to_file='transformer.png', show_shapes=True)"
      ],
      "execution_count": null,
      "outputs": [
        {
          "output_type": "execute_result",
          "data": {
            "image/png": "[encoded data removed]",
            "text/plain": [
              "<IPython.core.display.Image object>"
            ]
          },
          "metadata": {
            "tags": []
          },
          "execution_count": 107
        }
      ]
    },
    {
      "cell_type": "markdown",
      "metadata": {
        "id": "ViGD4cmgJgNl"
      },
      "source": [
        "#### Training"
      ]
    },
    {
      "cell_type": "code",
      "metadata": {
        "id": "sQENUG56Jdg8"
      },
      "source": [
        "tf.keras.backend.clear_session()\n",
        "\n",
        "# Hyper-parameters\n",
        "NUM_LAYERS = 8\n",
        "D_MODEL = 256\n",
        "NUM_HEADS = 8\n",
        "UNITS = 512\n",
        "DROPOUT = 0.1\n",
        "\n",
        "model = transformer(\n",
        "    vocab_size=VOCAB_SIZE,\n",
        "    num_layers=NUM_LAYERS,\n",
        "    units=UNITS,\n",
        "    d_model=D_MODEL,\n",
        "    num_heads=NUM_HEADS,\n",
        "    dropout=DROPOUT)"
      ],
      "execution_count": null,
      "outputs": []
    },
    {
      "cell_type": "markdown",
      "metadata": {
        "id": "KgzVccG3JodT"
      },
      "source": [
        "#### Loss function"
      ]
    },
    {
      "cell_type": "code",
      "metadata": {
        "id": "gfWF41CWJmYx"
      },
      "source": [
        "def loss_function(y_true, y_pred):\n",
        "  y_true = tf.reshape(y_true, shape=(-1, MAX_LENGTH - 1))\n",
        "  \n",
        "  loss = tf.keras.losses.SparseCategoricalCrossentropy(\n",
        "      from_logits=True, reduction='none')(y_true, y_pred)\n",
        "\n",
        "  mask = tf.cast(tf.not_equal(y_true, 0), tf.float32)\n",
        "  loss = tf.multiply(loss, mask)\n",
        "\n",
        "  return tf.reduce_mean(loss)"
      ],
      "execution_count": null,
      "outputs": []
    },
    {
      "cell_type": "markdown",
      "metadata": {
        "id": "HsqjpANRJzW5"
      },
      "source": [
        "##### Custom learning rate"
      ]
    },
    {
      "cell_type": "code",
      "metadata": {
        "id": "6OXpuogMJthI"
      },
      "source": [
        "class CustomSchedule(tf.keras.optimizers.schedules.LearningRateSchedule):\n",
        "\n",
        "  def __init__(self, d_model, warmup_steps=4000):\n",
        "    super(CustomSchedule, self).__init__()\n",
        "\n",
        "    self.d_model = d_model\n",
        "    self.d_model = tf.cast(self.d_model, tf.float32)\n",
        "\n",
        "    self.warmup_steps = warmup_steps\n",
        "\n",
        "  def __call__(self, step):\n",
        "    arg1 = tf.math.rsqrt(step)\n",
        "    arg2 = step * (self.warmup_steps**-1.5)\n",
        "\n",
        "    return tf.math.rsqrt(self.d_model) * tf.math.minimum(arg1, arg2)"
      ],
      "execution_count": null,
      "outputs": []
    },
    {
      "cell_type": "code",
      "metadata": {
        "id": "Oo7PFHKIJ3JF",
        "colab": {
          "base_uri": "https://localhost:8080/",
          "height": 300
        },
        "outputId": "aa70e132-1c59-4c89-8a3b-14102810c46a"
      },
      "source": [
        "sample_learning_rate = CustomSchedule(d_model=128)\n",
        "\n",
        "plt.plot(sample_learning_rate(tf.range(200000, dtype=tf.float32)))\n",
        "plt.ylabel(\"Learning Rate\")\n",
        "plt.xlabel(\"Train Step\")"
      ],
      "execution_count": null,
      "outputs": [
        {
          "output_type": "execute_result",
          "data": {
            "text/plain": [
              "Text(0.5, 0, 'Train Step')"
            ]
          },
          "metadata": {
            "tags": []
          },
          "execution_count": 111
        },
        {
          "output_type": "display_data",
          "data": {
            "image/png": "[encoded data removed]",
            "text/plain": [
              "<Figure size 432x288 with 1 Axes>"
            ]
          },
          "metadata": {
            "tags": [],
            "needs_background": "light"
          }
        }
      ]
    },
    {
      "cell_type": "markdown",
      "metadata": {
        "id": "NBWmlZPbJ-SA"
      },
      "source": [
        "#### Compile Model"
      ]
    },
    {
      "cell_type": "code",
      "metadata": {
        "id": "HAvf_i3iJ8H0"
      },
      "source": [
        "learning_rate = CustomSchedule(D_MODEL)\n",
        "\n",
        "optimizer = tf.keras.optimizers.Adam(\n",
        "    learning_rate, beta_1=0.9, beta_2=0.98, epsilon=1e-9)\n",
        "\n",
        "def accuracy(y_true, y_pred):\n",
        "  # ensure labels have shape (batch_size, MAX_LENGTH - 1)\n",
        "  y_true = tf.reshape(y_true, shape=(-1, MAX_LENGTH - 1))\n",
        "  return tf.keras.metrics.sparse_categorical_accuracy(y_true, y_pred)\n",
        "\n",
        "model.compile(optimizer=optimizer, loss=loss_function, metrics=[accuracy])"
      ],
      "execution_count": null,
      "outputs": []
    },
    {
      "cell_type": "code",
      "metadata": {
        "id": "WqnJsIfEKJox",
        "colab": {
          "base_uri": "https://localhost:8080/"
        },
        "outputId": "c49cd2b6-db1a-4e1d-fcca-7f981d228982"
      },
      "source": [
        "model.summary()"
      ],
      "execution_count": null,
      "outputs": [
        {
          "output_type": "stream",
          "text": [
            "Model: \"transformer\"\n",
            "__________________________________________________________________________________________________\n",
            "Layer (type)                    Output Shape         Param #     Connected to                     \n",
            "==================================================================================================\n",
            "inputs (InputLayer)             [(None, None)]       0                                            \n",
            "__________________________________________________________________________________________________\n",
            "look_ahead_mask (Lambda)        (None, 1, None, None 0           inputs[0][0]                     \n",
            "__________________________________________________________________________________________________\n",
            "Language_Decoder (Functional)   (None, None, 256)    6843904     inputs[0][0]                     \n",
            "                                                                 look_ahead_mask[0][0]            \n",
            "__________________________________________________________________________________________________\n",
            "outputs (Dense)                 (None, None, 10262)  2637334     Language_Decoder[0][0]           \n",
            "==================================================================================================\n",
            "Total params: 9,481,238\n",
            "Trainable params: 9,481,238\n",
            "Non-trainable params: 0\n",
            "__________________________________________________________________________________________________\n"
          ],
          "name": "stdout"
        }
      ]
    },
    {
      "cell_type": "code",
      "metadata": {
        "id": "FHilrmH0KX4s"
      },
      "source": [
        "checkpoint_dir = './training_checkpoints'\n",
        "# Name of the checkpoint files\n",
        "checkpoint_prefix = os.path.join(checkpoint_dir, \"ckpt_{epoch}\")\n",
        "\n",
        "checkpoint_callback=tf.keras.callbacks.ModelCheckpoint(\n",
        "    filepath=checkpoint_prefix,\n",
        "    save_weights_only=True)"
      ],
      "execution_count": null,
      "outputs": []
    },
    {
      "cell_type": "code",
      "metadata": {
        "id": "5qfYI1Y7KCp5",
        "colab": {
          "base_uri": "https://localhost:8080/"
        },
        "outputId": "dbd1daca-2241-496d-9a1c-31bcf04f565e"
      },
      "source": [
        "EPOCHS = 40\n",
        "\n",
        "model.fit(tweet_ds, epochs=EPOCHS, callbacks = [checkpoint_callback])"
      ],
      "execution_count": null,
      "outputs": [
        {
          "output_type": "stream",
          "text": [
            "Epoch 1/40\n",
            "39/39 [==============================] - 6s 160ms/step - loss: 2.0668 - accuracy: 6.1667e-05\n",
            "Epoch 2/40\n",
            "39/39 [==============================] - 6s 159ms/step - loss: 2.0235 - accuracy: 0.0090\n",
            "Epoch 3/40\n",
            "39/39 [==============================] - 6s 160ms/step - loss: 1.9788 - accuracy: 0.0101\n",
            "Epoch 4/40\n",
            "39/39 [==============================] - 6s 159ms/step - loss: 1.9284 - accuracy: 0.0101\n",
            "Epoch 5/40\n",
            "39/39 [==============================] - 6s 159ms/step - loss: 1.8659 - accuracy: 0.0101\n",
            "Epoch 6/40\n",
            "39/39 [==============================] - 6s 160ms/step - loss: 1.7930 - accuracy: 0.0101\n",
            "Epoch 7/40\n",
            "39/39 [==============================] - 6s 159ms/step - loss: 1.7141 - accuracy: 0.0101\n",
            "Epoch 8/40\n",
            "39/39 [==============================] - 6s 160ms/step - loss: 1.6424 - accuracy: 0.0125\n",
            "Epoch 9/40\n",
            "39/39 [==============================] - 6s 158ms/step - loss: 1.5887 - accuracy: 0.0188\n",
            "Epoch 10/40\n",
            "39/39 [==============================] - 6s 159ms/step - loss: 1.5547 - accuracy: 0.0211\n",
            "Epoch 11/40\n",
            "39/39 [==============================] - 6s 159ms/step - loss: 1.5353 - accuracy: 0.0219\n",
            "Epoch 12/40\n",
            "39/39 [==============================] - 6s 159ms/step - loss: 1.5168 - accuracy: 0.0240\n",
            "Epoch 13/40\n",
            "39/39 [==============================] - 6s 161ms/step - loss: 1.4920 - accuracy: 0.0270\n",
            "Epoch 14/40\n",
            "39/39 [==============================] - 6s 158ms/step - loss: 1.4609 - accuracy: 0.0299\n",
            "Epoch 15/40\n",
            "39/39 [==============================] - 6s 162ms/step - loss: 1.4271 - accuracy: 0.0326\n",
            "Epoch 16/40\n",
            "39/39 [==============================] - 6s 160ms/step - loss: 1.3928 - accuracy: 0.0354\n",
            "Epoch 17/40\n",
            "39/39 [==============================] - 6s 159ms/step - loss: 1.3603 - accuracy: 0.0378\n",
            "Epoch 18/40\n",
            "39/39 [==============================] - 6s 160ms/step - loss: 1.3275 - accuracy: 0.0402\n",
            "Epoch 19/40\n",
            "39/39 [==============================] - 6s 158ms/step - loss: 1.2993 - accuracy: 0.0421\n",
            "Epoch 20/40\n",
            "39/39 [==============================] - 6s 159ms/step - loss: 1.2720 - accuracy: 0.0439\n",
            "Epoch 21/40\n",
            "39/39 [==============================] - 6s 161ms/step - loss: 1.2444 - accuracy: 0.0463\n",
            "Epoch 22/40\n",
            "39/39 [==============================] - 6s 160ms/step - loss: 1.2213 - accuracy: 0.0478\n",
            "Epoch 23/40\n",
            "39/39 [==============================] - 6s 160ms/step - loss: 1.1962 - accuracy: 0.0501\n",
            "Epoch 24/40\n",
            "39/39 [==============================] - 6s 160ms/step - loss: 1.1715 - accuracy: 0.0517\n",
            "Epoch 25/40\n",
            "39/39 [==============================] - 6s 160ms/step - loss: 1.1484 - accuracy: 0.0538\n",
            "Epoch 26/40\n",
            "39/39 [==============================] - 6s 159ms/step - loss: 1.1228 - accuracy: 0.0555\n",
            "Epoch 27/40\n",
            "39/39 [==============================] - 6s 159ms/step - loss: 1.1000 - accuracy: 0.0576\n",
            "Epoch 28/40\n",
            "39/39 [==============================] - 6s 161ms/step - loss: 1.0749 - accuracy: 0.0594\n",
            "Epoch 29/40\n",
            "39/39 [==============================] - 6s 160ms/step - loss: 1.0488 - accuracy: 0.0617\n",
            "Epoch 30/40\n",
            "39/39 [==============================] - 6s 160ms/step - loss: 1.0244 - accuracy: 0.0639\n",
            "Epoch 31/40\n",
            "39/39 [==============================] - 6s 160ms/step - loss: 1.0003 - accuracy: 0.0658\n",
            "Epoch 32/40\n",
            "39/39 [==============================] - 6s 159ms/step - loss: 0.9739 - accuracy: 0.0674\n",
            "Epoch 33/40\n",
            "39/39 [==============================] - 6s 160ms/step - loss: 0.9477 - accuracy: 0.0702\n",
            "Epoch 34/40\n",
            "39/39 [==============================] - 6s 159ms/step - loss: 0.9207 - accuracy: 0.0724\n",
            "Epoch 35/40\n",
            "39/39 [==============================] - 6s 161ms/step - loss: 0.8908 - accuracy: 0.0756\n",
            "Epoch 36/40\n",
            "39/39 [==============================] - 6s 160ms/step - loss: 0.8642 - accuracy: 0.0777\n",
            "Epoch 37/40\n",
            "39/39 [==============================] - 6s 160ms/step - loss: 0.8356 - accuracy: 0.0813\n",
            "Epoch 38/40\n",
            "39/39 [==============================] - 6s 161ms/step - loss: 0.8073 - accuracy: 0.0846\n",
            "Epoch 39/40\n",
            "39/39 [==============================] - 6s 162ms/step - loss: 0.7777 - accuracy: 0.0884\n",
            "Epoch 40/40\n",
            "39/39 [==============================] - 6s 161ms/step - loss: 0.7467 - accuracy: 0.0928\n"
          ],
          "name": "stdout"
        },
        {
          "output_type": "execute_result",
          "data": {
            "text/plain": [
              "<tensorflow.python.keras.callbacks.History at 0x7f8c16f06400>"
            ]
          },
          "metadata": {
            "tags": []
          },
          "execution_count": 115
        }
      ]
    },
    {
      "cell_type": "markdown",
      "metadata": {
        "id": "NRGVHnXGNIK0"
      },
      "source": [
        "#### Testing the model"
      ]
    },
    {
      "cell_type": "code",
      "metadata": {
        "id": "ichrGeHFKP6z"
      },
      "source": [
        "def exploit_best_token_while_exploring(probabilites, exploration_len=5):\n",
        "    ## Get the top k probabilites indices where k is exploration_len \n",
        "    top_indices = np.argpartition(probabilites, -exploration_len)\\\n",
        "                            [-exploration_len:]\n",
        "\n",
        "    ## Getting top proabilities value\n",
        "    top_probabilities = probabilites[top_indices]\n",
        "    \n",
        "    ## Normalizing it so that they sum is 1\n",
        "    top_probabilities = top_probabilities / np.sum(top_probabilities)\n",
        "    ## Although we choose next token randomly for our options we \n",
        "    ## pass the probabilities associated with each to account for the\n",
        "    ## model's confidence for the token also. \n",
        "    choice = np.random.choice(exploration_len, 1, p = top_probabilities)\n",
        "\n",
        "    ## Return next token id based on choice\n",
        "    next_token_id = int(top_indices[choice][0])\n",
        "    return next_token_id"
      ],
      "execution_count": null,
      "outputs": []
    },
    {
      "cell_type": "code",
      "metadata": {
        "id": "GlAqTO2hKsJ6"
      },
      "source": [
        "\n",
        "def tweet(sentence, MAX_LEN = 64):\n",
        "  sentence = tf.expand_dims(\n",
        "      START_TOKEN + tokenizer.encode(sentence), axis=0)\n",
        "  \n",
        "\n",
        "  for pos in range(MAX_LEN):\n",
        "    predictions = model(sentence, training=False)\n",
        "\n",
        "    # select the last word from the seq_len dimension\n",
        "    predictions = predictions[0, -1]\n",
        "    softmax_logits = tf.nn.softmax(predictions, axis=0).numpy()\n",
        "\n",
        "    ## Depending on whether we are in initial or final stages of the tweet\n",
        "    ## we determine how many options we should explore to make sure we have\n",
        "    ## variety in tweets generated\n",
        "    if pos == 0:\n",
        "      # If we are predicting first word we need maximum exploration\n",
        "      exploration_len = 50\n",
        "\n",
        "    elif pos < 4:\n",
        "      # The next three words have exploration length 15\n",
        "      exploration_len = 15\n",
        "\n",
        "    else:\n",
        "      # As we move further we narrow our exploration length\n",
        "      exploration_len = 4\n",
        "\n",
        "    predicted_id = exploit_best_token_while_exploring(softmax_logits, \n",
        "                                                         exploration_len)\n",
        "    \n",
        "    # return the result if the predicted_id is equal to the end token\n",
        "    if tf.equal(predicted_id, END_TOKEN[0]) or tf.equal(predicted_id, START_TOKEN[0]):\n",
        "      return tokenizer.decode(tf.squeeze(sentence[:, 1:]).numpy())\n",
        "\n",
        "    # concatenated the predicted_id to the output which is given to the decoder\n",
        "    # as its input in enxt iteration.\n",
        "    sentence = tf.concat([sentence,tf.ones((1,1), dtype = tf.int32)*predicted_id], axis=-1)\n",
        "\n",
        "  ## If we did not get end token it means no tweet is formed and we try again\n",
        "  return tweet(sentence)"
      ],
      "execution_count": null,
      "outputs": []
    },
    {
      "cell_type": "code",
      "metadata": {
        "id": "YRVtyFriLC3D",
        "colab": {
          "base_uri": "https://localhost:8080/",
          "height": 35
        },
        "outputId": "d16806a2-01bc-430a-ba40-771ea065dbca"
      },
      "source": [
        "tweet('We are')"
      ],
      "execution_count": null,
      "outputs": [
        {
          "output_type": "execute_result",
          "data": {
            "application/vnd.google.colaboratory.intrinsic+json": {
              "type": "string"
            },
            "text/plain": [
              "\"We are, with a age of people, and the first knowledge. The most of technology, and the mind. It's of you’re not just going to see what it can going from it.\""
            ]
          },
          "metadata": {
            "tags": []
          },
          "execution_count": 118
        }
      ]
    },
    {
      "cell_type": "code",
      "metadata": {
        "id": "eliWsIZ7LGX_",
        "colab": {
          "base_uri": "https://localhost:8080/",
          "height": 35
        },
        "outputId": "6c652eca-9f7a-487f-bd92-b52969517238"
      },
      "source": [
        "tweet(\"If humans can\")"
      ],
      "execution_count": null,
      "outputs": [
        {
          "output_type": "execute_result",
          "data": {
            "application/vnd.google.colaboratory.intrinsic+json": {
              "type": "string"
            },
            "text/plain": [
              "'If humans can’t be taught, then it to do it.'"
            ]
          },
          "metadata": {
            "tags": []
          },
          "execution_count": 119
        }
      ]
    },
    {
      "cell_type": "code",
      "metadata": {
        "id": "XgQt-PQ7LN7l",
        "colab": {
          "base_uri": "https://localhost:8080/",
          "height": 35
        },
        "outputId": "53844cea-297c-4361-d5a4-99b2592a33fb"
      },
      "source": [
        "tweet(\"Technology\")"
      ],
      "execution_count": null,
      "outputs": [
        {
          "output_type": "execute_result",
          "data": {
            "application/vnd.google.colaboratory.intrinsic+json": {
              "type": "string"
            },
            "text/plain": [
              "'Technology.'"
            ]
          },
          "metadata": {
            "tags": []
          },
          "execution_count": 120
        }
      ]
    },
    {
      "cell_type": "code",
      "metadata": {
        "id": "vOkWSp0qcQQk",
        "colab": {
          "base_uri": "https://localhost:8080/",
          "height": 35
        },
        "outputId": "7f0a41db-6a61-457c-f4d6-8ae7027d35a6"
      },
      "source": [
        "tweet(\"Life\")"
      ],
      "execution_count": null,
      "outputs": [
        {
          "output_type": "execute_result",
          "data": {
            "application/vnd.google.colaboratory.intrinsic+json": {
              "type": "string"
            },
            "text/plain": [
              "'Life - I have the same level.'"
            ]
          },
          "metadata": {
            "tags": []
          },
          "execution_count": 121
        }
      ]
    },
    {
      "cell_type": "markdown",
      "metadata": {
        "id": "7ZXAOWStLSH2"
      },
      "source": [
        "#### Conclusion\n",
        "\n",
        "A vanilla Transformer implementation on Tensorflow from scratch without using any Transfer Learning to generate text. With more data, deeper networks and longer training time, it is capable of achieving better results. For the same task, Huggingface's Transformer implementation provides much better performance and is easier to use. Also, coupled with variety of pre-trained models from GPT-2, T5, clearly outperforms this vanilla implementation. But, the goal here is to understand the working of Transformer model and then applying that to solve better problems, more efficiently."
      ]
    }
  ]
}