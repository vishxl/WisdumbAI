{
  "nbformat": 4,
  "nbformat_minor": 0,
  "metadata": {
    "colab": {
      "name": "BiLSTM.ipynb",
      "provenance": [],
      "collapsed_sections": []
    },
    "kernelspec": {
      "name": "python3",
      "display_name": "Python 3"
    },
    "accelerator": "GPU"
  },
  "cells": [
    {
      "cell_type": "code",
      "metadata": {
        "id": "C3EEkqlQWDBT",
        "colab": {
          "base_uri": "https://localhost:8080/",
          "height": 34
        },
        "outputId": "5d5380a9-dd8d-4c43-e9ff-a050ada16aba"
      },
      "source": [
        "import pandas as pd\n",
        "from google.colab import drive\n",
        "drive.mount('/content/gdrive')"
      ],
      "execution_count": null,
      "outputs": [
        {
          "output_type": "stream",
          "text": [
            "Mounted at /content/gdrive\n"
          ],
          "name": "stdout"
        }
      ]
    },
    {
      "cell_type": "code",
      "metadata": {
        "id": "GWrQJlQ7qiG4"
      },
      "source": [
        "from keras.preprocessing.text import Tokenizer\n",
        "import numpy as np\n",
        "from keras.preprocessing.sequence import pad_sequences\n",
        "import keras.utils as np_utils\n",
        "from keras.models import Sequential\n",
        "\n",
        "from keras.layers import Activation, Flatten, Embedding, LSTM, Dense, Dropout, TimeDistributed, Bidirectional\n",
        "#from keras.layers import CuDNNLSTM\n",
        "\n",
        "import tensorflow\n",
        "tensorflow.random.set_seed(2)\n",
        "from numpy.random import seed\n",
        "seed(1)\n",
        "from keras.callbacks import EarlyStopping, ModelCheckpoint"
      ],
      "execution_count": null,
      "outputs": []
    },
    {
      "cell_type": "code",
      "metadata": {
        "id": "oAzF-aQ5i_aU"
      },
      "source": [
        "data = pd.read_csv(\"/content/gdrive/My Drive/Showerthoughts_200k.csv\", header = None, encoding = \"latin1\", skiprows= 10000, nrows=2000)\n",
        "data.columns = ['title']"
      ],
      "execution_count": null,
      "outputs": []
    },
    {
      "cell_type": "code",
      "metadata": {
        "id": "eM0bOuAYl7ij",
        "colab": {
          "base_uri": "https://localhost:8080/",
          "height": 419
        },
        "outputId": "24911d10-ead0-4b24-a545-c77165d06440"
      },
      "source": [
        "data.head(-10)"
      ],
      "execution_count": null,
      "outputs": [
        {
          "output_type": "execute_result",
          "data": {
            "text/html": [
              "<div>\n",
              "<style scoped>\n",
              "    .dataframe tbody tr th:only-of-type {\n",
              "        vertical-align: middle;\n",
              "    }\n",
              "\n",
              "    .dataframe tbody tr th {\n",
              "        vertical-align: top;\n",
              "    }\n",
              "\n",
              "    .dataframe thead th {\n",
              "        text-align: right;\n",
              "    }\n",
              "</style>\n",
              "<table border=\"1\" class=\"dataframe\">\n",
              "  <thead>\n",
              "    <tr style=\"text-align: right;\">\n",
              "      <th></th>\n",
              "      <th>title</th>\n",
              "    </tr>\n",
              "  </thead>\n",
              "  <tbody>\n",
              "    <tr>\n",
              "      <th>0</th>\n",
              "      <td>The better you are at golf, the less time you ...</td>\n",
              "    </tr>\n",
              "    <tr>\n",
              "      <th>1</th>\n",
              "      <td>Celebrities who wear parody MAGA gear are real...</td>\n",
              "    </tr>\n",
              "    <tr>\n",
              "      <th>2</th>\n",
              "      <td>Unless youâre deaf, youâll never experienc...</td>\n",
              "    </tr>\n",
              "    <tr>\n",
              "      <th>3</th>\n",
              "      <td>âplease leave a messageâ girl on everyoneâ...</td>\n",
              "    </tr>\n",
              "    <tr>\n",
              "      <th>4</th>\n",
              "      <td>Vegans are just simping for mother earth</td>\n",
              "    </tr>\n",
              "    <tr>\n",
              "      <th>...</th>\n",
              "      <td>...</td>\n",
              "    </tr>\n",
              "    <tr>\n",
              "      <th>1985</th>\n",
              "      <td>If somebody does something morally bad/wrong y...</td>\n",
              "    </tr>\n",
              "    <tr>\n",
              "      <th>1986</th>\n",
              "      <td>I love how on the pink guy song sheâs so nic...</td>\n",
              "    </tr>\n",
              "    <tr>\n",
              "      <th>1987</th>\n",
              "      <td>Fake balconies are a waste of building material</td>\n",
              "    </tr>\n",
              "    <tr>\n",
              "      <th>1988</th>\n",
              "      <td>We spend money to make money, so we can spend ...</td>\n",
              "    </tr>\n",
              "    <tr>\n",
              "      <th>1989</th>\n",
              "      <td>Animations are like slides. The stairs are the...</td>\n",
              "    </tr>\n",
              "  </tbody>\n",
              "</table>\n",
              "<p>1990 rows × 1 columns</p>\n",
              "</div>"
            ],
            "text/plain": [
              "                                                  title\n",
              "0     The better you are at golf, the less time you ...\n",
              "1     Celebrities who wear parody MAGA gear are real...\n",
              "2     Unless youâre deaf, youâll never experienc...\n",
              "3     âplease leave a messageâ girl on everyoneâ...\n",
              "4              Vegans are just simping for mother earth\n",
              "...                                                 ...\n",
              "1985  If somebody does something morally bad/wrong y...\n",
              "1986  I love how on the pink guy song sheâs so nic...\n",
              "1987    Fake balconies are a waste of building material\n",
              "1988  We spend money to make money, so we can spend ...\n",
              "1989  Animations are like slides. The stairs are the...\n",
              "\n",
              "[1990 rows x 1 columns]"
            ]
          },
          "metadata": {
            "tags": []
          },
          "execution_count": 4
        }
      ]
    },
    {
      "cell_type": "code",
      "metadata": {
        "id": "Uwf-hcirueYt"
      },
      "source": [
        "import string"
      ],
      "execution_count": null,
      "outputs": []
    },
    {
      "cell_type": "code",
      "metadata": {
        "id": "7sNPOyaTusrM",
        "colab": {
          "base_uri": "https://localhost:8080/",
          "height": 52
        },
        "outputId": "a0a56a9e-2010-4f13-b7da-c8cbf660889e"
      },
      "source": [
        "\"\"\"def clean_tweet(data):\n",
        "  data = data.replace('--', ' ')\n",
        "  tokens = data.split()\n",
        "  table = str.maketrans('','', string.punctuation)\n",
        "  tokens = [w.translate(table) for w in tokens]\n",
        "  tokens = [word for word in tokens if word.isalpha()]\n",
        "  tokens = [word.lower() for word in tokens]\n",
        "  return tokens\n",
        "corpus = [clean_tweet(x) for x in data['title']] \"\"\""
      ],
      "execution_count": null,
      "outputs": [
        {
          "output_type": "execute_result",
          "data": {
            "application/vnd.google.colaboratory.intrinsic+json": {
              "type": "string"
            },
            "text/plain": [
              "\"def clean_tweet(data):\\n  data = data.replace('--', ' ')\\n  tokens = data.split()\\n  table = str.maketrans('','', string.punctuation)\\n  tokens = [w.translate(table) for w in tokens]\\n  tokens = [word for word in tokens if word.isalpha()]\\n  tokens = [word.lower() for word in tokens]\\n  return tokens\\ncorpus = [clean_tweet(x) for x in data['title']] \""
            ]
          },
          "metadata": {
            "tags": []
          },
          "execution_count": 6
        }
      ]
    },
    {
      "cell_type": "code",
      "metadata": {
        "id": "GB5yCqvwk1BK",
        "colab": {
          "base_uri": "https://localhost:8080/",
          "height": 102
        },
        "outputId": "274669b9-1593-4b23-85cb-334ccf1502d7"
      },
      "source": [
        "def clean_text(txt):\n",
        "    txt = \"\".join(v for v in txt if v not in string.punctuation).lower()\n",
        "    txt = txt.encode(\"utf8\").decode(\"ascii\",'ignore')\n",
        "    return txt \n",
        "\n",
        "corpus = [clean_text(x) for x in data['title']]\n",
        "corpus[:5]"
      ],
      "execution_count": null,
      "outputs": [
        {
          "output_type": "execute_result",
          "data": {
            "text/plain": [
              "['the better you are at golf the less time you spend playing it',\n",
              " 'celebrities who wear parody maga gear are really setting themselves up for an easy photoshop opportunity',\n",
              " 'unless youre deaf youll never experience true silence',\n",
              " 'please leave a message girl on everyones voicemail is pretty much family at this point',\n",
              " 'vegans are just simping for mother earth']"
            ]
          },
          "metadata": {
            "tags": []
          },
          "execution_count": 7
        }
      ]
    },
    {
      "cell_type": "code",
      "metadata": {
        "id": "BLJOTDkWVwSk",
        "colab": {
          "base_uri": "https://localhost:8080/",
          "height": 34
        },
        "outputId": "3caf4770-d7f0-4d4b-8e82-6d14fbff47d5"
      },
      "source": [
        "len(corpus)"
      ],
      "execution_count": null,
      "outputs": [
        {
          "output_type": "execute_result",
          "data": {
            "text/plain": [
              "2000"
            ]
          },
          "metadata": {
            "tags": []
          },
          "execution_count": 8
        }
      ]
    },
    {
      "cell_type": "code",
      "metadata": {
        "id": "GdsoDBLSk061",
        "colab": {
          "base_uri": "https://localhost:8080/",
          "height": 187
        },
        "outputId": "86c27c18-621a-4516-f7f4-7f197446ff92"
      },
      "source": [
        "tokenizer = Tokenizer()\n",
        "\n",
        "def get_sequence_of_tokens(corpus):\n",
        "    ## tokenization\n",
        "    tokenizer.fit_on_texts(corpus)\n",
        "    total_words = len(tokenizer.word_index) + 1\n",
        "    \n",
        "    ## convert data to sequence of tokens \n",
        "    input_sequences = []\n",
        "    for line in corpus:\n",
        "        token_list = tokenizer.texts_to_sequences([line])[0]\n",
        "        for i in range(1, len(token_list)):\n",
        "            n_gram_sequence = token_list[:i+1]\n",
        "            input_sequences.append(n_gram_sequence)\n",
        "    return input_sequences, total_words\n",
        "\n",
        "inp_sequences, total_words = get_sequence_of_tokens(corpus)\n",
        "inp_sequences[:10]"
      ],
      "execution_count": null,
      "outputs": [
        {
          "output_type": "execute_result",
          "data": {
            "text/plain": [
              "[[1, 126],\n",
              " [1, 126, 6],\n",
              " [1, 126, 6, 9],\n",
              " [1, 126, 6, 9, 39],\n",
              " [1, 126, 6, 9, 39, 416],\n",
              " [1, 126, 6, 9, 39, 416, 1],\n",
              " [1, 126, 6, 9, 39, 416, 1, 127],\n",
              " [1, 126, 6, 9, 39, 416, 1, 127, 40],\n",
              " [1, 126, 6, 9, 39, 416, 1, 127, 40, 6],\n",
              " [1, 126, 6, 9, 39, 416, 1, 127, 40, 6, 355]]"
            ]
          },
          "metadata": {
            "tags": []
          },
          "execution_count": 9
        }
      ]
    },
    {
      "cell_type": "code",
      "metadata": {
        "id": "QT0vixaKk01P"
      },
      "source": [
        "def generate_padded_sequences(input_sequences):\n",
        "    max_sequence_len = max([len(x) for x in input_sequences])\n",
        "    input_sequences = np.array(pad_sequences(input_sequences, maxlen=max_sequence_len, padding='pre'))\n",
        "    \n",
        "    predictors, label = input_sequences[:,:-1],input_sequences[:,-1]\n",
        "    label = np_utils.to_categorical(label, num_classes=total_words)\n",
        "    return predictors, label, max_sequence_len\n",
        "\n",
        "predictors, label, max_sequence_len = generate_padded_sequences(inp_sequences)"
      ],
      "execution_count": null,
      "outputs": []
    },
    {
      "cell_type": "code",
      "metadata": {
        "id": "kJ92FFQ7k0xR",
        "colab": {
          "base_uri": "https://localhost:8080/",
          "height": 289
        },
        "outputId": "657f8672-0871-4df5-fba5-c7dfb74ef7e2"
      },
      "source": [
        "def create_model(max_sequence_len, total_words):\n",
        "    input_len = max_sequence_len - 1\n",
        "    model = Sequential()\n",
        "    \n",
        "    # Add Input Embedding Layer\n",
        "    model.add(Embedding(total_words, 10, input_length=input_len))\n",
        "    \n",
        "    # Add Hidden Layer 1 - LSTM Layer\n",
        "    model.add(LSTM(100))\n",
        "    model.add(Dropout(0.1))\n",
        "    \n",
        "    # Add Output Layer\n",
        "    model.add(Dense(total_words, activation='softmax'))\n",
        "\n",
        "    model.compile(loss='categorical_crossentropy', optimizer='adam')\n",
        "    \n",
        "    return model\n",
        "\n",
        "model = create_model(max_sequence_len, total_words)\n",
        "model.summary()"
      ],
      "execution_count": null,
      "outputs": [
        {
          "output_type": "stream",
          "text": [
            "Model: \"sequential\"\n",
            "_________________________________________________________________\n",
            "Layer (type)                 Output Shape              Param #   \n",
            "=================================================================\n",
            "embedding (Embedding)        (None, 54, 10)            54290     \n",
            "_________________________________________________________________\n",
            "lstm (LSTM)                  (None, 100)               44400     \n",
            "_________________________________________________________________\n",
            "dropout (Dropout)            (None, 100)               0         \n",
            "_________________________________________________________________\n",
            "dense (Dense)                (None, 5429)              548329    \n",
            "=================================================================\n",
            "Total params: 647,019\n",
            "Trainable params: 647,019\n",
            "Non-trainable params: 0\n",
            "_________________________________________________________________\n"
          ],
          "name": "stdout"
        }
      ]
    },
    {
      "cell_type": "code",
      "metadata": {
        "id": "RZsNJJGZk0v2",
        "colab": {
          "base_uri": "https://localhost:8080/",
          "height": 1000
        },
        "outputId": "9d1062d2-acd8-4c56-b4b8-1c5ab6b0214c"
      },
      "source": [
        "history = model.fit(predictors, label, epochs=30, verbose=2)"
      ],
      "execution_count": null,
      "outputs": [
        {
          "output_type": "stream",
          "text": [
            "Epoch 1/30\n",
            "918/918 - 5s - loss: 7.0360\n",
            "Epoch 2/30\n",
            "918/918 - 5s - loss: 6.7110\n",
            "Epoch 3/30\n",
            "918/918 - 5s - loss: 6.5143\n",
            "Epoch 4/30\n",
            "918/918 - 5s - loss: 6.3426\n",
            "Epoch 5/30\n",
            "918/918 - 5s - loss: 6.1775\n",
            "Epoch 6/30\n",
            "918/918 - 5s - loss: 6.0038\n",
            "Epoch 7/30\n",
            "918/918 - 5s - loss: 5.8164\n",
            "Epoch 8/30\n",
            "918/918 - 5s - loss: 5.6114\n",
            "Epoch 9/30\n",
            "918/918 - 5s - loss: 5.4164\n",
            "Epoch 10/30\n",
            "918/918 - 5s - loss: 5.2333\n",
            "Epoch 11/30\n",
            "918/918 - 5s - loss: 5.0556\n",
            "Epoch 12/30\n",
            "918/918 - 5s - loss: 4.8836\n",
            "Epoch 13/30\n",
            "918/918 - 5s - loss: 4.7141\n",
            "Epoch 14/30\n",
            "918/918 - 5s - loss: 4.5555\n",
            "Epoch 15/30\n",
            "918/918 - 5s - loss: 4.3983\n",
            "Epoch 16/30\n",
            "918/918 - 5s - loss: 4.2510\n",
            "Epoch 17/30\n",
            "918/918 - 5s - loss: 4.1080\n",
            "Epoch 18/30\n",
            "918/918 - 5s - loss: 3.9727\n",
            "Epoch 19/30\n",
            "918/918 - 5s - loss: 3.8489\n",
            "Epoch 20/30\n",
            "918/918 - 5s - loss: 3.7160\n",
            "Epoch 21/30\n",
            "918/918 - 5s - loss: 3.6123\n",
            "Epoch 22/30\n",
            "918/918 - 5s - loss: 3.5016\n",
            "Epoch 23/30\n",
            "918/918 - 5s - loss: 3.4034\n",
            "Epoch 24/30\n",
            "918/918 - 5s - loss: 3.3053\n",
            "Epoch 25/30\n",
            "918/918 - 5s - loss: 3.2253\n",
            "Epoch 26/30\n",
            "918/918 - 5s - loss: 3.1438\n",
            "Epoch 27/30\n",
            "918/918 - 5s - loss: 3.0679\n",
            "Epoch 28/30\n",
            "918/918 - 5s - loss: 2.9908\n",
            "Epoch 29/30\n",
            "918/918 - 5s - loss: 2.9223\n",
            "Epoch 30/30\n",
            "918/918 - 5s - loss: 2.8577\n"
          ],
          "name": "stdout"
        }
      ]
    },
    {
      "cell_type": "code",
      "metadata": {
        "id": "3PUEanUVk0sU"
      },
      "source": [
        "def generate_text(seed_text, next_words, model, max_sequence_len):\n",
        "    for _ in range(next_words):\n",
        "        token_list = tokenizer.texts_to_sequences([seed_text])[0]\n",
        "        token_list = pad_sequences([token_list], maxlen=max_sequence_len-1, padding='pre')\n",
        "        predicted = model.predict_classes(token_list, verbose=0)\n",
        "        \n",
        "        output_word = \"\"\n",
        "        for word,index in tokenizer.word_index.items():\n",
        "            if index == predicted:\n",
        "                output_word = word\n",
        "                break\n",
        "        seed_text += \" \"+output_word\n",
        "    return seed_text.title()"
      ],
      "execution_count": null,
      "outputs": []
    },
    {
      "cell_type": "code",
      "metadata": {
        "id": "DTTNkjExk0qp",
        "colab": {
          "base_uri": "https://localhost:8080/",
          "height": 34
        },
        "outputId": "583c9f1c-c84b-4462-a202-7b1c14816fcd"
      },
      "source": [
        "print (generate_text(\"Batman\", 19, model, max_sequence_len))"
      ],
      "execution_count": null,
      "outputs": [
        {
          "output_type": "stream",
          "text": [
            "Batman Is The Result Of People Pooping The Same Of The Universe You Are The First Person In A Hoodie\n"
          ],
          "name": "stdout"
        }
      ]
    },
    {
      "cell_type": "code",
      "metadata": {
        "id": "2CzHAfoFk0l8"
      },
      "source": [
        "model_save_name = 'showerthoughts.pt'\n",
        "path = F\"/content/gdrive/My Drive/WisdomAI/{model_save_name}\" \n",
        "torch.save(model.state_dict(), path)"
      ],
      "execution_count": null,
      "outputs": []
    }
  ]
}